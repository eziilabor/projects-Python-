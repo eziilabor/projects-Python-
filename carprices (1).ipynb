{
 "cells": [
  {
   "cell_type": "code",
   "execution_count": 311,
   "id": "3a533305-24c1-43bd-abfd-a9f7c38759d2",
   "metadata": {},
   "outputs": [
    {
     "data": {
      "text/html": [
       "<div>\n",
       "<style scoped>\n",
       "    .dataframe tbody tr th:only-of-type {\n",
       "        vertical-align: middle;\n",
       "    }\n",
       "\n",
       "    .dataframe tbody tr th {\n",
       "        vertical-align: top;\n",
       "    }\n",
       "\n",
       "    .dataframe thead th {\n",
       "        text-align: right;\n",
       "    }\n",
       "</style>\n",
       "<table border=\"1\" class=\"dataframe\">\n",
       "  <thead>\n",
       "    <tr style=\"text-align: right;\">\n",
       "      <th></th>\n",
       "      <th>Car Make</th>\n",
       "      <th>Car Model</th>\n",
       "      <th>Year</th>\n",
       "      <th>Engine Size (L)</th>\n",
       "      <th>Horsepower</th>\n",
       "      <th>Torque (lb-ft)</th>\n",
       "      <th>0-60 MPH Time (seconds)</th>\n",
       "      <th>Price (in USD)</th>\n",
       "    </tr>\n",
       "  </thead>\n",
       "  <tbody>\n",
       "    <tr>\n",
       "      <th>0</th>\n",
       "      <td>Porsche</td>\n",
       "      <td>911</td>\n",
       "      <td>2022</td>\n",
       "      <td>3</td>\n",
       "      <td>379</td>\n",
       "      <td>331</td>\n",
       "      <td>4</td>\n",
       "      <td>101,200</td>\n",
       "    </tr>\n",
       "    <tr>\n",
       "      <th>1</th>\n",
       "      <td>Lamborghini</td>\n",
       "      <td>Huracan</td>\n",
       "      <td>2021</td>\n",
       "      <td>5.2</td>\n",
       "      <td>630</td>\n",
       "      <td>443</td>\n",
       "      <td>2.8</td>\n",
       "      <td>274,390</td>\n",
       "    </tr>\n",
       "    <tr>\n",
       "      <th>2</th>\n",
       "      <td>Ferrari</td>\n",
       "      <td>488 GTB</td>\n",
       "      <td>2022</td>\n",
       "      <td>3.9</td>\n",
       "      <td>661</td>\n",
       "      <td>561</td>\n",
       "      <td>3</td>\n",
       "      <td>333,750</td>\n",
       "    </tr>\n",
       "    <tr>\n",
       "      <th>3</th>\n",
       "      <td>Audi</td>\n",
       "      <td>R8</td>\n",
       "      <td>2022</td>\n",
       "      <td>5.2</td>\n",
       "      <td>562</td>\n",
       "      <td>406</td>\n",
       "      <td>3.2</td>\n",
       "      <td>142,700</td>\n",
       "    </tr>\n",
       "    <tr>\n",
       "      <th>4</th>\n",
       "      <td>McLaren</td>\n",
       "      <td>720S</td>\n",
       "      <td>2021</td>\n",
       "      <td>4</td>\n",
       "      <td>710</td>\n",
       "      <td>568</td>\n",
       "      <td>2.7</td>\n",
       "      <td>298,000</td>\n",
       "    </tr>\n",
       "    <tr>\n",
       "      <th>...</th>\n",
       "      <td>...</td>\n",
       "      <td>...</td>\n",
       "      <td>...</td>\n",
       "      <td>...</td>\n",
       "      <td>...</td>\n",
       "      <td>...</td>\n",
       "      <td>...</td>\n",
       "      <td>...</td>\n",
       "    </tr>\n",
       "    <tr>\n",
       "      <th>1002</th>\n",
       "      <td>Koenigsegg</td>\n",
       "      <td>Jesko</td>\n",
       "      <td>2022</td>\n",
       "      <td>5</td>\n",
       "      <td>1280</td>\n",
       "      <td>1106</td>\n",
       "      <td>2.5</td>\n",
       "      <td>3,000,000</td>\n",
       "    </tr>\n",
       "    <tr>\n",
       "      <th>1003</th>\n",
       "      <td>Lotus</td>\n",
       "      <td>Evija</td>\n",
       "      <td>2021</td>\n",
       "      <td>Electric Motor</td>\n",
       "      <td>1972</td>\n",
       "      <td>1254</td>\n",
       "      <td>2</td>\n",
       "      <td>2,000,000</td>\n",
       "    </tr>\n",
       "    <tr>\n",
       "      <th>1004</th>\n",
       "      <td>McLaren</td>\n",
       "      <td>Senna</td>\n",
       "      <td>2021</td>\n",
       "      <td>4</td>\n",
       "      <td>789</td>\n",
       "      <td>590</td>\n",
       "      <td>2.7</td>\n",
       "      <td>1,000,000</td>\n",
       "    </tr>\n",
       "    <tr>\n",
       "      <th>1005</th>\n",
       "      <td>Pagani</td>\n",
       "      <td>Huayra</td>\n",
       "      <td>2021</td>\n",
       "      <td>6</td>\n",
       "      <td>764</td>\n",
       "      <td>738</td>\n",
       "      <td>3</td>\n",
       "      <td>2,600,000</td>\n",
       "    </tr>\n",
       "    <tr>\n",
       "      <th>1006</th>\n",
       "      <td>Rimac</td>\n",
       "      <td>Nevera</td>\n",
       "      <td>2021</td>\n",
       "      <td>Electric Motor</td>\n",
       "      <td>1888</td>\n",
       "      <td>1696</td>\n",
       "      <td>1.85</td>\n",
       "      <td>2,400,000</td>\n",
       "    </tr>\n",
       "  </tbody>\n",
       "</table>\n",
       "<p>1007 rows × 8 columns</p>\n",
       "</div>"
      ],
      "text/plain": [
       "         Car Make Car Model  Year Engine Size (L) Horsepower Torque (lb-ft)  \\\n",
       "0         Porsche       911  2022               3        379            331   \n",
       "1     Lamborghini   Huracan  2021             5.2        630            443   \n",
       "2         Ferrari   488 GTB  2022             3.9        661            561   \n",
       "3            Audi        R8  2022             5.2        562            406   \n",
       "4         McLaren      720S  2021               4        710            568   \n",
       "...           ...       ...   ...             ...        ...            ...   \n",
       "1002   Koenigsegg     Jesko  2022               5       1280           1106   \n",
       "1003        Lotus     Evija  2021  Electric Motor       1972           1254   \n",
       "1004      McLaren     Senna  2021               4        789            590   \n",
       "1005       Pagani    Huayra  2021               6        764            738   \n",
       "1006        Rimac    Nevera  2021  Electric Motor       1888           1696   \n",
       "\n",
       "     0-60 MPH Time (seconds) Price (in USD)  \n",
       "0                          4        101,200  \n",
       "1                        2.8        274,390  \n",
       "2                          3        333,750  \n",
       "3                        3.2        142,700  \n",
       "4                        2.7        298,000  \n",
       "...                      ...            ...  \n",
       "1002                     2.5      3,000,000  \n",
       "1003                       2      2,000,000  \n",
       "1004                     2.7      1,000,000  \n",
       "1005                       3      2,600,000  \n",
       "1006                    1.85      2,400,000  \n",
       "\n",
       "[1007 rows x 8 columns]"
      ]
     },
     "execution_count": 311,
     "metadata": {},
     "output_type": "execute_result"
    }
   ],
   "source": [
    "import pandas as pd\n",
    "import numpy as np\n",
    "import matplotlib.pyplot as plt\n",
    "import seaborn as sns\n",
    "from sklearn.linear_model import LinearRegression\n",
    "from sklearn.metrics import mean_absolute_error\n",
    "\n",
    "df = pd.read_csv(\"Sport car price.csv\")\n",
    "df"
   ]
  },
  {
   "cell_type": "code",
   "execution_count": 312,
   "id": "fc0f9c29-0f26-48b1-b536-5609e607e663",
   "metadata": {},
   "outputs": [
    {
     "name": "stdout",
     "output_type": "stream",
     "text": [
      "      Year\n",
      "Year   1.0\n"
     ]
    }
   ],
   "source": [
    "car_prices_df = car_prices_df.replace('', np.nan)  # Replace empty strings\n",
    "car_prices_df = car_prices_df.dropna()  # Drop rows with missing values\n",
    "\n",
    "car_prices_df = df[[\"Year\", \"Horsepower\", \"Torque (lb-ft)\", \"0-60 MPH Time (seconds)\", \"Price (in USD)\"]]\n",
    "car_prices_df.loc[:, \"Price (in USD)\"] = car_prices_df[\"Price (in USD)\"].str.replace(',', '', regex=True)\n",
    "car_prices_df.loc[:, \"Torque (lb-ft)\"] = car_prices_df[\"Torque (lb-ft)\"].str.replace(',', '', regex=True)\n",
    "car_prices_df.loc[:, \"Torque (lb-ft)\"] = car_prices_df[\"Torque (lb-ft)\"].str.replace(r'\\-', '', regex=True)\n",
    "car_prices_df.loc[:, \"Horsepower\"] = car_prices_df[\"Horsepower\"].str.replace(r'\\+', '', regex=True)\n",
    "car_prices_df.loc[:, \"Horsepower\"] = car_prices_df[\"Horsepower\"].str.replace(',', '', regex=True)\n",
    "car_prices_df = car_prices_df.dropna() \t\n",
    "\n",
    "numeric_df = car_prices_df.select_dtypes(include='number')\n",
    "correlation_matrix = numeric_df.corr(method=\"pearson\")\n",
    "print(correlation_matrix)"
   ]
  },
  {
   "cell_type": "code",
   "execution_count": 313,
   "id": "9fbb49a5-19d3-48c1-9195-d579a3782a21",
   "metadata": {},
   "outputs": [
    {
     "data": {
      "text/html": [
       "<div>\n",
       "<style scoped>\n",
       "    .dataframe tbody tr th:only-of-type {\n",
       "        vertical-align: middle;\n",
       "    }\n",
       "\n",
       "    .dataframe tbody tr th {\n",
       "        vertical-align: top;\n",
       "    }\n",
       "\n",
       "    .dataframe thead th {\n",
       "        text-align: right;\n",
       "    }\n",
       "</style>\n",
       "<table border=\"1\" class=\"dataframe\">\n",
       "  <thead>\n",
       "    <tr style=\"text-align: right;\">\n",
       "      <th></th>\n",
       "      <th>Year</th>\n",
       "      <th>Horsepower</th>\n",
       "      <th>Torque (lb-ft)</th>\n",
       "      <th>0-60 MPH Time (seconds)</th>\n",
       "      <th>Price (in USD)</th>\n",
       "    </tr>\n",
       "  </thead>\n",
       "  <tbody>\n",
       "    <tr>\n",
       "      <th>Year</th>\n",
       "      <td>1.000000</td>\n",
       "      <td>0.028412</td>\n",
       "      <td>0.029466</td>\n",
       "      <td>-0.010357</td>\n",
       "      <td>-0.030991</td>\n",
       "    </tr>\n",
       "    <tr>\n",
       "      <th>Horsepower</th>\n",
       "      <td>0.028412</td>\n",
       "      <td>1.000000</td>\n",
       "      <td>0.760641</td>\n",
       "      <td>-0.503862</td>\n",
       "      <td>0.457226</td>\n",
       "    </tr>\n",
       "    <tr>\n",
       "      <th>Torque (lb-ft)</th>\n",
       "      <td>0.029466</td>\n",
       "      <td>0.760641</td>\n",
       "      <td>1.000000</td>\n",
       "      <td>-0.560113</td>\n",
       "      <td>0.545823</td>\n",
       "    </tr>\n",
       "    <tr>\n",
       "      <th>0-60 MPH Time (seconds)</th>\n",
       "      <td>-0.010357</td>\n",
       "      <td>-0.503862</td>\n",
       "      <td>-0.560113</td>\n",
       "      <td>1.000000</td>\n",
       "      <td>-0.505649</td>\n",
       "    </tr>\n",
       "    <tr>\n",
       "      <th>Price (in USD)</th>\n",
       "      <td>-0.030991</td>\n",
       "      <td>0.457226</td>\n",
       "      <td>0.545823</td>\n",
       "      <td>-0.505649</td>\n",
       "      <td>1.000000</td>\n",
       "    </tr>\n",
       "  </tbody>\n",
       "</table>\n",
       "</div>"
      ],
      "text/plain": [
       "                             Year  Horsepower  Torque (lb-ft)  \\\n",
       "Year                     1.000000    0.028412        0.029466   \n",
       "Horsepower               0.028412    1.000000        0.760641   \n",
       "Torque (lb-ft)           0.029466    0.760641        1.000000   \n",
       "0-60 MPH Time (seconds) -0.010357   -0.503862       -0.560113   \n",
       "Price (in USD)          -0.030991    0.457226        0.545823   \n",
       "\n",
       "                         0-60 MPH Time (seconds)  Price (in USD)  \n",
       "Year                                   -0.010357       -0.030991  \n",
       "Horsepower                             -0.503862        0.457226  \n",
       "Torque (lb-ft)                         -0.560113        0.545823  \n",
       "0-60 MPH Time (seconds)                 1.000000       -0.505649  \n",
       "Price (in USD)                         -0.505649        1.000000  "
      ]
     },
     "execution_count": 313,
     "metadata": {},
     "output_type": "execute_result"
    }
   ],
   "source": [
    "numeric_df = car_prices_df.apply(pd.to_numeric, errors='coerce')\n",
    "\n",
    "# Drop rows with NaN (non-float values)\n",
    "float_only_df = numeric_df.dropna()\n",
    "float_only_df.corr(method=\"pearson\")"
   ]
  },
  {
   "cell_type": "code",
   "execution_count": 314,
   "id": "82a8fd8d-47d4-424d-8754-8e6907df247c",
   "metadata": {},
   "outputs": [
    {
     "data": {
      "image/png": "[encoded data removed]",
      "text/plain": [
       "<Figure size 500x500 with 1 Axes>"
      ]
     },
     "metadata": {},
     "output_type": "display_data"
    }
   ],
   "source": [
    "sns.lmplot(x='Torque (lb-ft)', y='Price (in USD)', data=float_only_df, ci = None)\n",
    "plt.title('Torque (lb-ft) vs Price')\n",
    "plt.show()"
   ]
  },
  {
   "cell_type": "code",
   "execution_count": 315,
   "id": "816ad845-86f5-4c88-95d8-2fee5cf2c163",
   "metadata": {},
   "outputs": [
    {
     "data": {
      "text/plain": [
       "<Axes: ylabel='Frequency'>"
      ]
     },
     "execution_count": 315,
     "metadata": {},
     "output_type": "execute_result"
    },
    {
     "data": {
      "image/png": "[encoded data removed]",
      "text/plain": [
       "<Figure size 640x480 with 1 Axes>"
      ]
     },
     "metadata": {},
     "output_type": "display_data"
    }
   ],
   "source": [
    "float_only_df.plot.hist(y=\"Price (in USD)\")"
   ]
  },
  {
   "cell_type": "code",
   "execution_count": 316,
   "id": "bafb74d4-2e29-4838-afe3-6cc7ae56279f",
   "metadata": {},
   "outputs": [
    {
     "data": {
      "text/plain": [
       "<Axes: ylabel='Frequency'>"
      ]
     },
     "execution_count": 316,
     "metadata": {},
     "output_type": "execute_result"
    },
    {
     "data": {
      "image/png": "[encoded data removed]",
      "text/plain": [
       "<Figure size 640x480 with 1 Axes>"
      ]
     },
     "metadata": {},
     "output_type": "display_data"
    }
   ],
   "source": [
    "float_only_df.plot.hist(y=\"Torque (lb-ft)\")"
   ]
  },
  {
   "cell_type": "code",
   "execution_count": 317,
   "id": "e1478a62-3721-4801-9b3f-a3a7c155b8a9",
   "metadata": {},
   "outputs": [
    {
     "data": {
      "image/png": "[encoded data removed]",
      "text/plain": [
       "<Figure size 640x480 with 1 Axes>"
      ]
     },
     "metadata": {},
     "output_type": "display_data"
    },
    {
     "name": "stdout",
     "output_type": "stream",
     "text": [
      "Regression Equation: y = 1241.4697696387923x + -299574.2285947935\n"
     ]
    }
   ],
   "source": [
    "\n",
    "\n",
    "# Create a seaborn scatter plot with regression line\n",
    "sns.regplot(x=float_only_df['Torque (lb-ft)'], y=float_only_df['Price (in USD)'], line_kws=None)\n",
    "\n",
    "# Display the plot\n",
    "plt.title('Regression Line with Seaborn')\n",
    "plt.show()\n",
    "\n",
    "# Get the slope and intercept using np.polyfit (or scikit-learn)\n",
    "slope, intercept = np.polyfit(float_only_df['Torque (lb-ft)'],float_only_df['Price (in USD)'], 1)\n",
    "print(f\"Regression Equation: y = {slope}x + {intercept}\")"
   ]
  },
  {
   "cell_type": "code",
   "execution_count": 318,
   "id": "56f8cb40-56f6-4d7b-a7ec-84d875d3e03d",
   "metadata": {},
   "outputs": [
    {
     "data": {
      "text/plain": [
       "(223, 5)"
      ]
     },
     "execution_count": 318,
     "metadata": {},
     "output_type": "execute_result"
    }
   ],
   "source": [
    "test = float_only_df[float_only_df[\"Price (in USD)\"] >= 300000].copy()\n",
    "train = float_only_df[float_only_df[\"Price (in USD)\"] < 300000].copy() \n",
    "test.shape\n"
   ]
  },
  {
   "cell_type": "code",
   "execution_count": 319,
   "id": "9c36991d-909c-405a-88e9-50601d75bdaa",
   "metadata": {},
   "outputs": [
    {
     "data": {
      "text/plain": [
       "(778, 5)"
      ]
     },
     "execution_count": 319,
     "metadata": {},
     "output_type": "execute_result"
    }
   ],
   "source": [
    "train.shape"
   ]
  },
  {
   "cell_type": "code",
   "execution_count": 320,
   "id": "feda9aeb-0005-41b4-be8d-ae1ad4c30396",
   "metadata": {},
   "outputs": [],
   "source": [
    "reg = LinearRegression()"
   ]
  },
  {
   "cell_type": "code",
   "execution_count": 331,
   "id": "6b3ab9a9-668e-4c31-bece-f985b6c3ccf5",
   "metadata": {},
   "outputs": [
    {
     "data": {
      "text/html": [
       "<div>\n",
       "<style scoped>\n",
       "    .dataframe tbody tr th:only-of-type {\n",
       "        vertical-align: middle;\n",
       "    }\n",
       "\n",
       "    .dataframe tbody tr th {\n",
       "        vertical-align: top;\n",
       "    }\n",
       "\n",
       "    .dataframe thead th {\n",
       "        text-align: right;\n",
       "    }\n",
       "</style>\n",
       "<table border=\"1\" class=\"dataframe\">\n",
       "  <thead>\n",
       "    <tr style=\"text-align: right;\">\n",
       "      <th></th>\n",
       "      <th>Year</th>\n",
       "      <th>Horsepower</th>\n",
       "      <th>Torque (lb-ft)</th>\n",
       "      <th>0-60 MPH Time (seconds)</th>\n",
       "      <th>Price (in USD)</th>\n",
       "      <th>predictions</th>\n",
       "    </tr>\n",
       "  </thead>\n",
       "  <tbody>\n",
       "    <tr>\n",
       "      <th>2</th>\n",
       "      <td>2022</td>\n",
       "      <td>661</td>\n",
       "      <td>561.0</td>\n",
       "      <td>3.00</td>\n",
       "      <td>333750</td>\n",
       "      <td>161832.346784</td>\n",
       "    </tr>\n",
       "    <tr>\n",
       "      <th>11</th>\n",
       "      <td>2021</td>\n",
       "      <td>1500</td>\n",
       "      <td>1180.0</td>\n",
       "      <td>2.40</td>\n",
       "      <td>3000000</td>\n",
       "      <td>190644.904722</td>\n",
       "    </tr>\n",
       "    <tr>\n",
       "      <th>14</th>\n",
       "      <td>2021</td>\n",
       "      <td>1280</td>\n",
       "      <td>1015.0</td>\n",
       "      <td>2.50</td>\n",
       "      <td>2800000</td>\n",
       "      <td>186320.785157</td>\n",
       "    </tr>\n",
       "    <tr>\n",
       "      <th>24</th>\n",
       "      <td>2021</td>\n",
       "      <td>720</td>\n",
       "      <td>737.0</td>\n",
       "      <td>2.80</td>\n",
       "      <td>2800000</td>\n",
       "      <td>170525.236092</td>\n",
       "    </tr>\n",
       "    <tr>\n",
       "      <th>26</th>\n",
       "      <td>2022</td>\n",
       "      <td>1914</td>\n",
       "      <td>1696.0</td>\n",
       "      <td>1.85</td>\n",
       "      <td>2400000</td>\n",
       "      <td>215631.507245</td>\n",
       "    </tr>\n",
       "    <tr>\n",
       "      <th>...</th>\n",
       "      <td>...</td>\n",
       "      <td>...</td>\n",
       "      <td>...</td>\n",
       "      <td>...</td>\n",
       "      <td>...</td>\n",
       "      <td>...</td>\n",
       "    </tr>\n",
       "    <tr>\n",
       "      <th>1002</th>\n",
       "      <td>2022</td>\n",
       "      <td>1280</td>\n",
       "      <td>1106.0</td>\n",
       "      <td>2.50</td>\n",
       "      <td>3000000</td>\n",
       "      <td>184871.901932</td>\n",
       "    </tr>\n",
       "    <tr>\n",
       "      <th>1003</th>\n",
       "      <td>2021</td>\n",
       "      <td>1972</td>\n",
       "      <td>1254.0</td>\n",
       "      <td>2.00</td>\n",
       "      <td>2000000</td>\n",
       "      <td>214693.651537</td>\n",
       "    </tr>\n",
       "    <tr>\n",
       "      <th>1004</th>\n",
       "      <td>2021</td>\n",
       "      <td>789</td>\n",
       "      <td>590.0</td>\n",
       "      <td>2.70</td>\n",
       "      <td>1000000</td>\n",
       "      <td>178862.878610</td>\n",
       "    </tr>\n",
       "    <tr>\n",
       "      <th>1005</th>\n",
       "      <td>2021</td>\n",
       "      <td>764</td>\n",
       "      <td>738.0</td>\n",
       "      <td>3.00</td>\n",
       "      <td>2600000</td>\n",
       "      <td>159664.983326</td>\n",
       "    </tr>\n",
       "    <tr>\n",
       "      <th>1006</th>\n",
       "      <td>2021</td>\n",
       "      <td>1888</td>\n",
       "      <td>1696.0</td>\n",
       "      <td>1.85</td>\n",
       "      <td>2400000</td>\n",
       "      <td>215467.229142</td>\n",
       "    </tr>\n",
       "  </tbody>\n",
       "</table>\n",
       "<p>223 rows × 6 columns</p>\n",
       "</div>"
      ],
      "text/plain": [
       "      Year  Horsepower  Torque (lb-ft)  0-60 MPH Time (seconds)  \\\n",
       "2     2022         661           561.0                     3.00   \n",
       "11    2021        1500          1180.0                     2.40   \n",
       "14    2021        1280          1015.0                     2.50   \n",
       "24    2021         720           737.0                     2.80   \n",
       "26    2022        1914          1696.0                     1.85   \n",
       "...    ...         ...             ...                      ...   \n",
       "1002  2022        1280          1106.0                     2.50   \n",
       "1003  2021        1972          1254.0                     2.00   \n",
       "1004  2021         789           590.0                     2.70   \n",
       "1005  2021         764           738.0                     3.00   \n",
       "1006  2021        1888          1696.0                     1.85   \n",
       "\n",
       "      Price (in USD)    predictions  \n",
       "2             333750  161832.346784  \n",
       "11           3000000  190644.904722  \n",
       "14           2800000  186320.785157  \n",
       "24           2800000  170525.236092  \n",
       "26           2400000  215631.507245  \n",
       "...              ...            ...  \n",
       "1002         3000000  184871.901932  \n",
       "1003         2000000  214693.651537  \n",
       "1004         1000000  178862.878610  \n",
       "1005         2600000  159664.983326  \n",
       "1006         2400000  215467.229142  \n",
       "\n",
       "[223 rows x 6 columns]"
      ]
     },
     "execution_count": 331,
     "metadata": {},
     "output_type": "execute_result"
    }
   ],
   "source": [
    "valuepredictors = [\"Torque (lb-ft)\", \"0-60 MPH Time (seconds)\", 'Horsepower']\n",
    "target = \"Price (in USD)\"\n",
    "\n",
    "reg.fit(train[valuepredictors],train[\"Price (in USD)\"])\n",
    "predictions=reg.predict(test[valuepredictors])\n",
    "\n",
    "test[\"predictions\"] = predictions\n",
    "test"
   ]
  },
  {
   "cell_type": "code",
   "execution_count": 333,
   "id": "3bb7cc76-b1d0-4806-8766-745c0ac4c962",
   "metadata": {},
   "outputs": [],
   "source": [
    "test[\"predictions\"]=test[\"predictions\"].round()"
   ]
  },
  {
   "cell_type": "code",
   "execution_count": 335,
   "id": "1c6fa3c6-d6bd-4bdd-a643-191483cc9d50",
   "metadata": {},
   "outputs": [
    {
     "data": {
      "text/html": [
       "<div>\n",
       "<style scoped>\n",
       "    .dataframe tbody tr th:only-of-type {\n",
       "        vertical-align: middle;\n",
       "    }\n",
       "\n",
       "    .dataframe tbody tr th {\n",
       "        vertical-align: top;\n",
       "    }\n",
       "\n",
       "    .dataframe thead th {\n",
       "        text-align: right;\n",
       "    }\n",
       "</style>\n",
       "<table border=\"1\" class=\"dataframe\">\n",
       "  <thead>\n",
       "    <tr style=\"text-align: right;\">\n",
       "      <th></th>\n",
       "      <th>Year</th>\n",
       "      <th>Horsepower</th>\n",
       "      <th>Torque (lb-ft)</th>\n",
       "      <th>0-60 MPH Time (seconds)</th>\n",
       "      <th>Price (in USD)</th>\n",
       "      <th>predictions</th>\n",
       "    </tr>\n",
       "  </thead>\n",
       "  <tbody>\n",
       "    <tr>\n",
       "      <th>2</th>\n",
       "      <td>2022</td>\n",
       "      <td>661</td>\n",
       "      <td>561.0</td>\n",
       "      <td>3.00</td>\n",
       "      <td>333750</td>\n",
       "      <td>161832.0</td>\n",
       "    </tr>\n",
       "    <tr>\n",
       "      <th>11</th>\n",
       "      <td>2021</td>\n",
       "      <td>1500</td>\n",
       "      <td>1180.0</td>\n",
       "      <td>2.40</td>\n",
       "      <td>3000000</td>\n",
       "      <td>190645.0</td>\n",
       "    </tr>\n",
       "    <tr>\n",
       "      <th>14</th>\n",
       "      <td>2021</td>\n",
       "      <td>1280</td>\n",
       "      <td>1015.0</td>\n",
       "      <td>2.50</td>\n",
       "      <td>2800000</td>\n",
       "      <td>186321.0</td>\n",
       "    </tr>\n",
       "    <tr>\n",
       "      <th>24</th>\n",
       "      <td>2021</td>\n",
       "      <td>720</td>\n",
       "      <td>737.0</td>\n",
       "      <td>2.80</td>\n",
       "      <td>2800000</td>\n",
       "      <td>170525.0</td>\n",
       "    </tr>\n",
       "    <tr>\n",
       "      <th>26</th>\n",
       "      <td>2022</td>\n",
       "      <td>1914</td>\n",
       "      <td>1696.0</td>\n",
       "      <td>1.85</td>\n",
       "      <td>2400000</td>\n",
       "      <td>215632.0</td>\n",
       "    </tr>\n",
       "    <tr>\n",
       "      <th>...</th>\n",
       "      <td>...</td>\n",
       "      <td>...</td>\n",
       "      <td>...</td>\n",
       "      <td>...</td>\n",
       "      <td>...</td>\n",
       "      <td>...</td>\n",
       "    </tr>\n",
       "    <tr>\n",
       "      <th>1002</th>\n",
       "      <td>2022</td>\n",
       "      <td>1280</td>\n",
       "      <td>1106.0</td>\n",
       "      <td>2.50</td>\n",
       "      <td>3000000</td>\n",
       "      <td>184872.0</td>\n",
       "    </tr>\n",
       "    <tr>\n",
       "      <th>1003</th>\n",
       "      <td>2021</td>\n",
       "      <td>1972</td>\n",
       "      <td>1254.0</td>\n",
       "      <td>2.00</td>\n",
       "      <td>2000000</td>\n",
       "      <td>214694.0</td>\n",
       "    </tr>\n",
       "    <tr>\n",
       "      <th>1004</th>\n",
       "      <td>2021</td>\n",
       "      <td>789</td>\n",
       "      <td>590.0</td>\n",
       "      <td>2.70</td>\n",
       "      <td>1000000</td>\n",
       "      <td>178863.0</td>\n",
       "    </tr>\n",
       "    <tr>\n",
       "      <th>1005</th>\n",
       "      <td>2021</td>\n",
       "      <td>764</td>\n",
       "      <td>738.0</td>\n",
       "      <td>3.00</td>\n",
       "      <td>2600000</td>\n",
       "      <td>159665.0</td>\n",
       "    </tr>\n",
       "    <tr>\n",
       "      <th>1006</th>\n",
       "      <td>2021</td>\n",
       "      <td>1888</td>\n",
       "      <td>1696.0</td>\n",
       "      <td>1.85</td>\n",
       "      <td>2400000</td>\n",
       "      <td>215467.0</td>\n",
       "    </tr>\n",
       "  </tbody>\n",
       "</table>\n",
       "<p>223 rows × 6 columns</p>\n",
       "</div>"
      ],
      "text/plain": [
       "      Year  Horsepower  Torque (lb-ft)  0-60 MPH Time (seconds)  \\\n",
       "2     2022         661           561.0                     3.00   \n",
       "11    2021        1500          1180.0                     2.40   \n",
       "14    2021        1280          1015.0                     2.50   \n",
       "24    2021         720           737.0                     2.80   \n",
       "26    2022        1914          1696.0                     1.85   \n",
       "...    ...         ...             ...                      ...   \n",
       "1002  2022        1280          1106.0                     2.50   \n",
       "1003  2021        1972          1254.0                     2.00   \n",
       "1004  2021         789           590.0                     2.70   \n",
       "1005  2021         764           738.0                     3.00   \n",
       "1006  2021        1888          1696.0                     1.85   \n",
       "\n",
       "      Price (in USD)  predictions  \n",
       "2             333750     161832.0  \n",
       "11           3000000     190645.0  \n",
       "14           2800000     186321.0  \n",
       "24           2800000     170525.0  \n",
       "26           2400000     215632.0  \n",
       "...              ...          ...  \n",
       "1002         3000000     184872.0  \n",
       "1003         2000000     214694.0  \n",
       "1004         1000000     178863.0  \n",
       "1005         2600000     159665.0  \n",
       "1006         2400000     215467.0  \n",
       "\n",
       "[223 rows x 6 columns]"
      ]
     },
     "execution_count": 335,
     "metadata": {},
     "output_type": "execute_result"
    }
   ],
   "source": [
    "test\n"
   ]
  },
  {
   "cell_type": "code",
   "execution_count": 337,
   "id": "4a863461-f8cb-4f1c-9948-162c12ae3f0e",
   "metadata": {},
   "outputs": [],
   "source": [
    "error = mean_absolute_error(test['Price (in USD)'], test['predictions'])"
   ]
  },
  {
   "cell_type": "code",
   "execution_count": 339,
   "id": "c169b8a1-f0d1-4c0a-b5de-7bf68166c404",
   "metadata": {},
   "outputs": [
    {
     "data": {
      "text/plain": [
       "1123562.8968609865"
      ]
     },
     "execution_count": 339,
     "metadata": {},
     "output_type": "execute_result"
    }
   ],
   "source": [
    "error"
   ]
  },
  {
   "cell_type": "code",
   "execution_count": null,
   "id": "d5279ff2-ab8d-4470-8859-5afcbfef9d82",
   "metadata": {},
   "outputs": [],
   "source": []
  },
  {
   "cell_type": "code",
   "execution_count": null,
   "id": "8ef7b9be-2a68-458e-8bd1-401e833319fa",
   "metadata": {},
   "outputs": [],
   "source": []
  }
 ],
 "metadata": {
  "kernelspec": {
   "display_name": "Python [conda env:base] *",
   "language": "python",
   "name": "conda-base-py"
  },
  "language_info": {
   "codemirror_mode": {
    "name": "ipython",
    "version": 3
   },
   "file_extension": ".py",
   "mimetype": "text/x-python",
   "name": "python",
   "nbconvert_exporter": "python",
   "pygments_lexer": "ipython3",
   "version": "3.11.7"
  }
 },
 "nbformat": 4,
 "nbformat_minor": 5
}
